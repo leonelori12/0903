{
  "nbformat": 4,
  "nbformat_minor": 0,
  "metadata": {
    "colab": {
      "provenance": [],
      "authorship_tag": "ABX9TyNjIrXPXc5rVkA4/XOgosoP",
      "include_colab_link": true
    },
    "kernelspec": {
      "name": "python3",
      "display_name": "Python 3"
    },
    "language_info": {
      "name": "python"
    }
  },
  "cells": [
    {
      "cell_type": "markdown",
      "metadata": {
        "id": "view-in-github",
        "colab_type": "text"
      },
      "source": [
        "<a href=\"https://colab.research.google.com/github/leonelori12/0903/blob/main/Untitled0.ipynb\" target=\"_parent\"><img src=\"https://colab.research.google.com/assets/colab-badge.svg\" alt=\"Open In Colab\"/></a>"
      ]
    },
    {
      "cell_type": "code",
      "source": [
        "import socket\n",
        "import threading\n",
        "\n",
        "def handle_client(client_socket, client_address):\n",
        "    print('Se ha establecido una conexión desde {}:{}'.format(client_address[0], client_address[1]))\n",
        "\n",
        "    while True:\n",
        "        data = client_socket.recv(1024)\n",
        "\n",
        "        if not data:\n",
        "            break\n",
        "\n",
        "        message = data.decode()\n",
        "        print('Datos recibidos desde {}: {}'.format(client_address[0], message))\n",
        "\n",
        "        response = '¡Mensaje recibido correctamente!'\n",
        "        client_socket.sendall(response.encode())\n",
        "\n",
        "    client_socket.close()\n",
        "    print('Conexión cerrada con {}:{}'.format(client_address[0], client_address[1]))\n",
        "\n",
        "def start_server():\n",
        "    server_socket = socket.socket(socket.AF_INET, socket.SOCK_STREAM)\n",
        "\n",
        "    host = 'localhost'\n",
        "    port = 12345\n",
        "\n",
        "    server_socket.bind((host, port))\n",
        "\n",
        "    server_socket.listen(5)\n",
        "\n",
        "    print('El servidor está escuchando en {}:{}'.format(host, port))\n",
        "\n",
        "    while True:\n",
        "        client_socket, client_address = server_socket.accept()\n",
        "\n",
        "        client_thread = threading.Thread(target=handle_client, args=(client_socket, client_address))\n",
        "        client_thread.start()\n",
        "\n",
        "start_server()\n"
      ],
      "metadata": {
        "id": "pX7HGRVkypwi",
        "outputId": "e7689036-2f6c-4675-fd07-667ca45b2509",
        "colab": {
          "base_uri": "https://localhost:8080/"
        }
      },
      "execution_count": null,
      "outputs": [
        {
          "metadata": {
            "tags": null
          },
          "name": "stdout",
          "output_type": "stream",
          "text": [
            "El servidor está escuchando en localhost:12345\n"
          ]
        }
      ]
    }
  ]
}
